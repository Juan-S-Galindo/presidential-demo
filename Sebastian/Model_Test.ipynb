{
 "metadata": {
  "language_info": {
   "codemirror_mode": {
    "name": "ipython",
    "version": 3
   },
   "file_extension": ".py",
   "mimetype": "text/x-python",
   "name": "python",
   "nbconvert_exporter": "python",
   "pygments_lexer": "ipython3",
   "version": "3.8.5-final"
  },
  "orig_nbformat": 2,
  "kernelspec": {
   "name": "Python 3.8.5 64-bit",
   "display_name": "Python 3.8.5 64-bit",
   "metadata": {
    "interpreter": {
     "hash": "082e9a3bcad0a290d0001e938aa60b99250c6c2ef33a923c00b70f9826caf4b7"
    }
   }
  }
 },
 "nbformat": 4,
 "nbformat_minor": 2,
 "cells": [
  {
   "cell_type": "code",
   "execution_count": 1,
   "metadata": {},
   "outputs": [],
   "source": [
    "#Machine learning, array and dataframe libraries.\n",
    "import pandas as pd\n",
    "import numpy as np\n",
    "\n",
    "import tensorflow\n",
    "from tensorflow.keras.models import load_model\n",
    "from sklearn.preprocessing import LabelEncoder, MinMaxScaler\n",
    "\n",
    "def election_predict(Zip, Occupation, Amount):\n",
    "\n",
    "    #Load model. \n",
    "    model = load_model(\"election_model.h5\")\n",
    "\n",
    "    #Dictionary to store the inputs. \n",
    "    input_dict = {'Zip' : Zip,\"Occupation\" :  Occupation, 'Amount' : Amount}\n",
    "\n",
    "    #Since we will only pass 1 prediction at a time, index = [0] (only 1 row)\n",
    "    input_df = pd.DataFrame(data = input_dict, index = [0])\n",
    "\n",
    "    #Empty df to create the encoded values. -----------\n",
    "    encoded_df = pd.DataFrame()\n",
    "\n",
    "    for column in input_df[['Zip','Occupation','Amount']]:\n",
    "        \n",
    "        #Creates the encoder object.\n",
    "        encoder = LabelEncoder()\n",
    "        #Imports the encoded attributes from our original model.\n",
    "        encoder.classes_ = np.load(f'Model Encoders/encoder{column}.npy', allow_pickle=True)\n",
    "        #Creates a colmn with the encoded values.\n",
    "        encoded_df[column] = encoder.transform(input_df[column])\n",
    "\n",
    "    #Scaler improrts the scaler parameters from our original model.\n",
    "    X_scaler_USER = MinMaxScaler().fit(pd.read_pickle('https://election-data-2020-red-raiders.s3.us-east-2.amazonaws.com/X_scaler.pkl'))\n",
    "    #Scales the user input parameters.\n",
    "    X_USER_scaled = X_scaler_USER.transform(encoded_df)\n",
    "   \n",
    "    #model prediction.\n",
    "    encoded_predictions = model.predict_classes(X_USER_scaled)\n",
    "\n",
    "    #original encoder of campaign.\n",
    "    encoder_campign = LabelEncoder()\n",
    "    encoder_campign.classes_ = np.load(f'Model Encoders/encoderCampaign.npy', allow_pickle=True)\n",
    "\n",
    "    #Decodes the prediction labels.\n",
    "    prediction_labels = encoder_campign.inverse_transform(encoded_predictions)\n",
    "\n",
    "    #Returns the prediction.\n",
    "    return str(prediction_labels[0])"
   ]
  },
  {
   "cell_type": "code",
   "execution_count": 2,
   "metadata": {},
   "outputs": [
    {
     "output_type": "stream",
     "name": "stdout",
     "text": [
      "WARNING:tensorflow:From <ipython-input-1-2aacfb6f6f02>:38: Sequential.predict_classes (from tensorflow.python.keras.engine.sequential) is deprecated and will be removed after 2021-01-01.\nInstructions for updating:\nPlease use instead:* `np.argmax(model.predict(x), axis=-1)`,   if your model does multi-class classification   (e.g. if it uses a `softmax` last-layer activation).* `(model.predict(x) > 0.5).astype(\"int32\")`,   if your model does binary classification   (e.g. if it uses a `sigmoid` last-layer activation).\n"
     ]
    },
    {
     "output_type": "execute_result",
     "data": {
      "text/plain": [
       "'Democrat'"
      ]
     },
     "metadata": {},
     "execution_count": 2
    }
   ],
   "source": [
    "election_predict('35205','Retired','[5000 - 6000)')"
   ]
  },
  {
   "cell_type": "code",
   "execution_count": null,
   "metadata": {},
   "outputs": [],
   "source": []
  }
 ]
}