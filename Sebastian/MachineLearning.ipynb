{
 "metadata": {
  "language_info": {
   "codemirror_mode": {
    "name": "ipython",
    "version": 3
   },
   "file_extension": ".py",
   "mimetype": "text/x-python",
   "name": "python",
   "nbconvert_exporter": "python",
   "pygments_lexer": "ipython3",
   "version": "3.8.5-final"
  },
  "orig_nbformat": 2,
  "kernelspec": {
   "name": "Python 3.8.5 64-bit",
   "display_name": "Python 3.8.5 64-bit",
   "metadata": {
    "interpreter": {
     "hash": "082e9a3bcad0a290d0001e938aa60b99250c6c2ef33a923c00b70f9826caf4b7"
    }
   }
  }
 },
 "nbformat": 4,
 "nbformat_minor": 2,
 "cells": [
  {
   "cell_type": "code",
   "execution_count": 1,
   "metadata": {},
   "outputs": [],
   "source": [
    "#Machine learning, array and dataframe libraries.\n",
    "\n",
    "from numpy.random import seed\n",
    "seed(1)\n",
    "\n",
    "import numpy as np\n",
    "import pandas as pd\n",
    "\n",
    "import tensorflow\n",
    "from sklearn.preprocessing import LabelEncoder, MinMaxScaler\n",
    "from sklearn.model_selection import train_test_split\n",
    "from tensorflow.keras.utils import to_categorical\n",
    "\n",
    "from tensorflow.keras.models import Sequential\n",
    "from tensorflow.keras.layers import Dense\n"
   ]
  },
  {
   "source": [
    "# Cleaned Data import "
   ],
   "cell_type": "markdown",
   "metadata": {}
  },
  {
   "cell_type": "code",
   "execution_count": 2,
   "metadata": {},
   "outputs": [],
   "source": [
    "import math\n",
    "\n",
    "#To classify donation in ranges.\n",
    "def roundNum(x):\n",
    "    \n",
    "    max = int(math.ceil((x+0.1)/1000)) *1000\n",
    "    low = int(math.floor(x/1000)) *1000\n",
    "    return f'[{low} - {max})'"
   ]
  },
  {
   "cell_type": "code",
   "execution_count": 3,
   "metadata": {},
   "outputs": [
    {
     "output_type": "execute_result",
     "data": {
      "text/plain": [
       "     Zip Occupation  Amount  Campaign\n",
       "0  35205    Retired     250  Democrat\n",
       "1  36695   Employed     100  Democrat\n",
       "2  35213    Retired     500  Democrat\n",
       "3  35242   Employed      25  Democrat\n",
       "4  35242   Employed      25  Democrat"
      ],
      "text/html": "<div>\n<style scoped>\n    .dataframe tbody tr th:only-of-type {\n        vertical-align: middle;\n    }\n\n    .dataframe tbody tr th {\n        vertical-align: top;\n    }\n\n    .dataframe thead th {\n        text-align: right;\n    }\n</style>\n<table border=\"1\" class=\"dataframe\">\n  <thead>\n    <tr style=\"text-align: right;\">\n      <th></th>\n      <th>Zip</th>\n      <th>Occupation</th>\n      <th>Amount</th>\n      <th>Campaign</th>\n    </tr>\n  </thead>\n  <tbody>\n    <tr>\n      <th>0</th>\n      <td>35205</td>\n      <td>Retired</td>\n      <td>250</td>\n      <td>Democrat</td>\n    </tr>\n    <tr>\n      <th>1</th>\n      <td>36695</td>\n      <td>Employed</td>\n      <td>100</td>\n      <td>Democrat</td>\n    </tr>\n    <tr>\n      <th>2</th>\n      <td>35213</td>\n      <td>Retired</td>\n      <td>500</td>\n      <td>Democrat</td>\n    </tr>\n    <tr>\n      <th>3</th>\n      <td>35242</td>\n      <td>Employed</td>\n      <td>25</td>\n      <td>Democrat</td>\n    </tr>\n    <tr>\n      <th>4</th>\n      <td>35242</td>\n      <td>Employed</td>\n      <td>25</td>\n      <td>Democrat</td>\n    </tr>\n  </tbody>\n</table>\n</div>"
     },
     "metadata": {},
     "execution_count": 3
    }
   ],
   "source": [
    "#Import data from S3\n",
    "cleanedElection_df = pd.read_csv('https://election-data-2020-red-raiders.s3.us-east-2.amazonaws.com/combinedClean.csv')\n",
    "\n",
    "#Filter dataframe for the coluns we want.\n",
    "cleanedElection_df = cleanedElection_df[['Zip','Occupation','Amount','Campaign']]\n",
    "\n",
    "#declare data types\n",
    "cleanedElection_df['Zip'] = cleanedElection_df['Zip'].astype(str)\n",
    "cleanedElection_df['Occupation'] = cleanedElection_df['Occupation'].astype(str)\n",
    "cleanedElection_df['Campaign'] = cleanedElection_df['Campaign'].astype(str)\n",
    "cleanedElection_df['Amount'] = cleanedElection_df['Amount'].astype(int)\n",
    "\n",
    "cleanedElection_df.head()"
   ]
  },
  {
   "cell_type": "code",
   "execution_count": 4,
   "metadata": {},
   "outputs": [
    {
     "output_type": "execute_result",
     "data": {
      "text/plain": [
       "     Zip Occupation      Amount  Campaign\n",
       "0  35205    Retired  [0 - 1000)  Democrat\n",
       "1  36695   Employed  [0 - 1000)  Democrat\n",
       "2  35213    Retired  [0 - 1000)  Democrat\n",
       "3  35242   Employed  [0 - 1000)  Democrat\n",
       "4  35242   Employed  [0 - 1000)  Democrat"
      ],
      "text/html": "<div>\n<style scoped>\n    .dataframe tbody tr th:only-of-type {\n        vertical-align: middle;\n    }\n\n    .dataframe tbody tr th {\n        vertical-align: top;\n    }\n\n    .dataframe thead th {\n        text-align: right;\n    }\n</style>\n<table border=\"1\" class=\"dataframe\">\n  <thead>\n    <tr style=\"text-align: right;\">\n      <th></th>\n      <th>Zip</th>\n      <th>Occupation</th>\n      <th>Amount</th>\n      <th>Campaign</th>\n    </tr>\n  </thead>\n  <tbody>\n    <tr>\n      <th>0</th>\n      <td>35205</td>\n      <td>Retired</td>\n      <td>[0 - 1000)</td>\n      <td>Democrat</td>\n    </tr>\n    <tr>\n      <th>1</th>\n      <td>36695</td>\n      <td>Employed</td>\n      <td>[0 - 1000)</td>\n      <td>Democrat</td>\n    </tr>\n    <tr>\n      <th>2</th>\n      <td>35213</td>\n      <td>Retired</td>\n      <td>[0 - 1000)</td>\n      <td>Democrat</td>\n    </tr>\n    <tr>\n      <th>3</th>\n      <td>35242</td>\n      <td>Employed</td>\n      <td>[0 - 1000)</td>\n      <td>Democrat</td>\n    </tr>\n    <tr>\n      <th>4</th>\n      <td>35242</td>\n      <td>Employed</td>\n      <td>[0 - 1000)</td>\n      <td>Democrat</td>\n    </tr>\n  </tbody>\n</table>\n</div>"
     },
     "metadata": {},
     "execution_count": 4
    }
   ],
   "source": [
    "#Loop to clasify values in ranges.\n",
    "for index, row in cleanedElection_df.iterrows():\n",
    "\n",
    "    if row['Amount'] < 0:\n",
    "        cleanedElection_df.loc[index, 'Amount'] = 'Refund'\n",
    "        continue\n",
    "\n",
    "        # strip the rest\n",
    "    cleanedElection_df.loc[index, 'Zip'] = row['Zip'][:5].strip()\n",
    "    \n",
    "    cleanedElection_df.loc[index, 'Amount'] = roundNum(row['Amount'])\n",
    "\n",
    "cleanedElection_df = cleanedElection_df[cleanedElection_df['Amount'] != 'Refund']\n",
    "\n",
    "cleanedElection_df.reset_index(inplace=True, drop = True)\n",
    "\n",
    "cleanedElection_df.head()"
   ]
  },
  {
   "source": [
    "# Categorical data encoding, train,test split and numerical data scaling"
   ],
   "cell_type": "markdown",
   "metadata": {}
  },
  {
   "source": [
    "# Categorical encoding"
   ],
   "cell_type": "markdown",
   "metadata": {}
  },
  {
   "cell_type": "code",
   "execution_count": 117,
   "metadata": {},
   "outputs": [
    {
     "output_type": "stream",
     "name": "stdout",
     "text": [
      "Zip\n",
      "Occupation\n",
      "Amount\n",
      "Campaign\n"
     ]
    }
   ],
   "source": [
    "#Label-encode data set\n",
    "encoded_df = pd.DataFrame()\n",
    "\n",
    "for column in cleanedElection_df[['Zip','Occupation','Amount','Campaign']]:\n",
    "    list_encoded[column] = {'Encoded' : None, 'Raw' : None}\n",
    "\n",
    "    encoder = LabelEncoder()\n",
    "\n",
    "    print(column)\n",
    "    encoder.fit(cleanedElection_df[column])\n",
    "\n",
    "    np.save(f'encoder{column}.npy', encoder.classes_)\n",
    "\n",
    "    encoded_df[column] = encoder.transform(cleanedElection_df[column])\n"
   ]
  },
  {
   "cell_type": "code",
   "execution_count": 86,
   "metadata": {},
   "outputs": [
    {
     "output_type": "execute_result",
     "data": {
      "text/plain": [
       "     Zip  Occupation  Amount  Campaign\n",
       "0  10307           1       0         0\n",
       "1  10795           0       0         0\n",
       "2  10315           1       0         0\n",
       "3  10333           0       0         0\n",
       "4  10333           0       0         0"
      ],
      "text/html": "<div>\n<style scoped>\n    .dataframe tbody tr th:only-of-type {\n        vertical-align: middle;\n    }\n\n    .dataframe tbody tr th {\n        vertical-align: top;\n    }\n\n    .dataframe thead th {\n        text-align: right;\n    }\n</style>\n<table border=\"1\" class=\"dataframe\">\n  <thead>\n    <tr style=\"text-align: right;\">\n      <th></th>\n      <th>Zip</th>\n      <th>Occupation</th>\n      <th>Amount</th>\n      <th>Campaign</th>\n    </tr>\n  </thead>\n  <tbody>\n    <tr>\n      <th>0</th>\n      <td>10307</td>\n      <td>1</td>\n      <td>0</td>\n      <td>0</td>\n    </tr>\n    <tr>\n      <th>1</th>\n      <td>10795</td>\n      <td>0</td>\n      <td>0</td>\n      <td>0</td>\n    </tr>\n    <tr>\n      <th>2</th>\n      <td>10315</td>\n      <td>1</td>\n      <td>0</td>\n      <td>0</td>\n    </tr>\n    <tr>\n      <th>3</th>\n      <td>10333</td>\n      <td>0</td>\n      <td>0</td>\n      <td>0</td>\n    </tr>\n    <tr>\n      <th>4</th>\n      <td>10333</td>\n      <td>0</td>\n      <td>0</td>\n      <td>0</td>\n    </tr>\n  </tbody>\n</table>\n</div>"
     },
     "metadata": {},
     "execution_count": 86
    }
   ],
   "source": [
    "encoded_df.head()"
   ]
  },
  {
   "cell_type": "code",
   "execution_count": 79,
   "metadata": {},
   "outputs": [
    {
     "output_type": "execute_result",
     "data": {
      "text/plain": [
       "     Zip Occupation      Amount  Campaign\n",
       "0  35205    Retired  [0 - 1000)  Democrat\n",
       "1  36695   Employed  [0 - 1000)  Democrat\n",
       "2  35213    Retired  [0 - 1000)  Democrat\n",
       "3  35242   Employed  [0 - 1000)  Democrat\n",
       "4  35242   Employed  [0 - 1000)  Democrat"
      ],
      "text/html": "<div>\n<style scoped>\n    .dataframe tbody tr th:only-of-type {\n        vertical-align: middle;\n    }\n\n    .dataframe tbody tr th {\n        vertical-align: top;\n    }\n\n    .dataframe thead th {\n        text-align: right;\n    }\n</style>\n<table border=\"1\" class=\"dataframe\">\n  <thead>\n    <tr style=\"text-align: right;\">\n      <th></th>\n      <th>Zip</th>\n      <th>Occupation</th>\n      <th>Amount</th>\n      <th>Campaign</th>\n    </tr>\n  </thead>\n  <tbody>\n    <tr>\n      <th>0</th>\n      <td>35205</td>\n      <td>Retired</td>\n      <td>[0 - 1000)</td>\n      <td>Democrat</td>\n    </tr>\n    <tr>\n      <th>1</th>\n      <td>36695</td>\n      <td>Employed</td>\n      <td>[0 - 1000)</td>\n      <td>Democrat</td>\n    </tr>\n    <tr>\n      <th>2</th>\n      <td>35213</td>\n      <td>Retired</td>\n      <td>[0 - 1000)</td>\n      <td>Democrat</td>\n    </tr>\n    <tr>\n      <th>3</th>\n      <td>35242</td>\n      <td>Employed</td>\n      <td>[0 - 1000)</td>\n      <td>Democrat</td>\n    </tr>\n    <tr>\n      <th>4</th>\n      <td>35242</td>\n      <td>Employed</td>\n      <td>[0 - 1000)</td>\n      <td>Democrat</td>\n    </tr>\n  </tbody>\n</table>\n</div>"
     },
     "metadata": {},
     "execution_count": 79
    }
   ],
   "source": [
    "cleanedElection_df.head()"
   ]
  },
  {
   "cell_type": "code",
   "execution_count": 80,
   "metadata": {},
   "outputs": [
    {
     "output_type": "stream",
     "name": "stdout",
     "text": [
      "(9654121, 3) (9654121,)\n"
     ]
    }
   ],
   "source": [
    "#Separate outcome from data \n",
    "X = encoded_df.drop('Campaign', axis = 1)\n",
    "y = encoded_df['Campaign']\n",
    "print(X.shape, y.shape)"
   ]
  },
  {
   "source": [
    "## Train - Test Split"
   ],
   "cell_type": "markdown",
   "metadata": {}
  },
  {
   "cell_type": "code",
   "execution_count": 81,
   "metadata": {},
   "outputs": [],
   "source": [
    "X_train, X_test, y_train, y_test = train_test_split(\n",
    "    X, y, random_state=1)"
   ]
  },
  {
   "source": [
    "## Numerical Scaling"
   ],
   "cell_type": "markdown",
   "metadata": {}
  },
  {
   "cell_type": "code",
   "execution_count": 57,
   "metadata": {},
   "outputs": [],
   "source": [
    "X_scaler = MinMaxScaler().fit(X_train)\n",
    "X_train_scaled = X_scaler.transform(X_train)\n",
    "X_test_scaled = X_scaler.transform(X_test)\n",
    "\n",
    "X_train.to_pickle('X_scaler.pkl')"
   ]
  },
  {
   "source": [
    "# One hot encoding"
   ],
   "cell_type": "markdown",
   "metadata": {}
  },
  {
   "cell_type": "code",
   "execution_count": 60,
   "metadata": {},
   "outputs": [],
   "source": [
    "# Step 2: Convert encoded labels to one-hot-encoding\n",
    "y_train_categorical = to_categorical(y_train)\n",
    "y_test_categorical = to_categorical(y_test)"
   ]
  },
  {
   "source": [
    "#  Model Set up"
   ],
   "cell_type": "markdown",
   "metadata": {}
  },
  {
   "cell_type": "code",
   "execution_count": 61,
   "metadata": {},
   "outputs": [],
   "source": [
    "# Create model and add layers\n",
    "model = Sequential()\n",
    "model.add(Dense(units=150, activation='relu', input_dim=3)) #3 inputs \n",
    "model.add(Dense(units=120, activation='relu'))\n",
    "model.add(Dense(units=100, activation='relu'))\n",
    "model.add(Dense(units=2, activation='softmax')) #2 outcomes."
   ]
  },
  {
   "cell_type": "code",
   "execution_count": 62,
   "metadata": {},
   "outputs": [],
   "source": [
    "# Compile and fit the model\n",
    "model.compile(optimizer='adam',\n",
    "              loss='categorical_crossentropy',\n",
    "              metrics=['accuracy'])"
   ]
  },
  {
   "cell_type": "code",
   "execution_count": 63,
   "metadata": {},
   "outputs": [
    {
     "output_type": "stream",
     "name": "stdout",
     "text": [
      "226269/226269 - 171s - loss: 0.4050 - accuracy: 0.8231\n"
     ]
    },
    {
     "output_type": "execute_result",
     "data": {
      "text/plain": [
       "<tensorflow.python.keras.callbacks.History at 0x7fc3c6ce7490>"
      ]
     },
     "metadata": {},
     "execution_count": 63
    }
   ],
   "source": [
    "model.fit(\n",
    "    X_train_scaled,\n",
    "    y_train_categorical,\n",
    "    epochs=5,\n",
    "    shuffle=True,\n",
    "    verbose=2\n",
    ")"
   ]
  },
  {
   "cell_type": "code",
   "execution_count": 64,
   "metadata": {},
   "outputs": [
    {
     "output_type": "stream",
     "name": "stdout",
     "text": [
      "Model: \"sequential\"\n_________________________________________________________________\nLayer (type)                 Output Shape              Param #   \n=================================================================\ndense (Dense)                (None, 100)               400       \n_________________________________________________________________\ndense_1 (Dense)              (None, 100)               10100     \n_________________________________________________________________\ndense_2 (Dense)              (None, 2)                 202       \n=================================================================\nTotal params: 10,702\nTrainable params: 10,702\nNon-trainable params: 0\n_________________________________________________________________\n"
     ]
    }
   ],
   "source": [
    "model.summary()"
   ]
  },
  {
   "cell_type": "code",
   "execution_count": 65,
   "metadata": {},
   "outputs": [
    {
     "output_type": "stream",
     "name": "stdout",
     "text": [
      "75423/75423 - 40s - loss: 0.4028 - accuracy: 0.8230\n",
      "Normal Neural Network - Loss: 0.40276870131492615, Accuracy: 0.8229950070381165\n"
     ]
    }
   ],
   "source": [
    "model_loss, model_accuracy = model.evaluate(X_test_scaled, y_test_categorical, verbose=2)\n",
    "print(\n",
    "    f\"Normal Neural Network - Loss: {model_loss}, Accuracy: {model_accuracy}\")"
   ]
  },
  {
   "source": [
    "# Predictions"
   ],
   "cell_type": "markdown",
   "metadata": {}
  },
  {
   "cell_type": "code",
   "execution_count": 17,
   "metadata": {},
   "outputs": [
    {
     "output_type": "stream",
     "name": "stdout",
     "text": [
      "WARNING:tensorflow:From <ipython-input-17-00c18cf47933>:1: Sequential.predict_classes (from tensorflow.python.keras.engine.sequential) is deprecated and will be removed after 2021-01-01.\nInstructions for updating:\nPlease use instead:* `np.argmax(model.predict(x), axis=-1)`,   if your model does multi-class classification   (e.g. if it uses a `softmax` last-layer activation).* `(model.predict(x) > 0.5).astype(\"int32\")`,   if your model does binary classification   (e.g. if it uses a `sigmoid` last-layer activation).\n"
     ]
    }
   ],
   "source": [
    "encoded_predictions = model.predict_classes(X_test_scaled[:10])\n",
    "prediction_labels = label_encoder.inverse_transform(encoded_predictions)"
   ]
  },
  {
   "cell_type": "code",
   "execution_count": 18,
   "metadata": {},
   "outputs": [
    {
     "output_type": "stream",
     "name": "stdout",
     "text": [
      "Predicted classes: ['Democrat' 'Republican' 'Democrat' 'Democrat' 'Democrat' 'Democrat'\n 'Republican' 'Democrat' 'Republican' 'Democrat']\nActual Labels: [0, 1, 0, 0, 0, 0, 1, 0, 1, 0]\n"
     ]
    }
   ],
   "source": [
    "print(f\"Predicted classes: {prediction_labels}\")\n",
    "print(f\"Actual Labels: {list(y_test[:10])}\")"
   ]
  },
  {
   "source": [
    "# Model Save"
   ],
   "cell_type": "markdown",
   "metadata": {}
  },
  {
   "cell_type": "code",
   "execution_count": 68,
   "metadata": {},
   "outputs": [],
   "source": []
  },
  {
   "cell_type": "code",
   "execution_count": 106,
   "metadata": {},
   "outputs": [],
   "source": [
    "\n",
    "encoded_predictions = model.predict_classes(X_test_scaled[500:510])\n",
    "prediction_labels = label_encoder.inverse_transform(encoded_predictions)"
   ]
  },
  {
   "cell_type": "code",
   "execution_count": 108,
   "metadata": {},
   "outputs": [
    {
     "output_type": "stream",
     "name": "stdout",
     "text": [
      "Predicted class: [0 0 1 0 0 1 0 0 0 1]\nPredicted classes: ['Democrat' 'Democrat' 'Republican' 'Democrat' 'Democrat' 'Republican'\n 'Democrat' 'Democrat' 'Democrat' 'Republican']\nActual Labels: [1, 0, 1, 0, 0, 0, 0, 0, 0, 1]\n"
     ]
    }
   ],
   "source": [
    "# Make a prediction. The result should be 5 - STANDING\n",
    "print(f\"Predicted class: {encoded_predictions}\")\n",
    "print(f\"Predicted classes: {prediction_labels}\")\n",
    "print(f\"Actual Labels: {list(y_test[500:510])}\")"
   ]
  },
  {
   "cell_type": "code",
   "execution_count": 112,
   "metadata": {},
   "outputs": [],
   "source": [
    "\n"
   ]
  },
  {
   "cell_type": "code",
   "execution_count": null,
   "metadata": {},
   "outputs": [],
   "source": []
  }
 ]
}